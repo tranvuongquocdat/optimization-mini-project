{
 "cells": [
  {
   "cell_type": "code",
   "execution_count": 29,
   "id": "0f58ee3e",
   "metadata": {},
   "outputs": [
    {
     "name": "stdout",
     "output_type": "stream",
     "text": [
      "10 7 3 [[4, 0, 1, 3, 5, 6], [5, 0, 2, 6, 1, 3, 4], [3, 1, 5, 6, 0], [4, 3, 4, 1, 0, 6], [4, 2, 5, 6, 0, 1], [4, 3, 0, 4, 2, 5], [2, 0, 1, 5], [3, 1, 3, 6, 4], [3, 4, 2, 0, 3], [4, 4, 3, 1, 0, 2]]\n",
      "optimal objective value is 5.0\n",
      "nhà khoa học 1 tham gia phản diện các bài báo:[5, 7, 9]\n",
      "nhà khoa học 2 tham gia phản diện các bài báo:[1, 3, 7, 8, 10]\n",
      "nhà khoa học 3 tham gia phản diện các bài báo:[5, 6, 7, 10]\n",
      "nhà khoa học 4 tham gia phản diện các bài báo:[3, 4, 6, 8, 9]\n",
      "nhà khoa học 5 tham gia phản diện các bài báo:[1, 2, 4, 9, 10]\n",
      "nhà khoa học 6 tham gia phản diện các bài báo:[2, 3, 5, 6]\n",
      "nhà khoa học 7 tham gia phản diện các bài báo:[1, 2, 4, 8]\n"
     ]
    }
   ],
   "source": [
    "from ortools.linear_solver import pywraplp\n",
    "#lấy dữ liệu từ data\n",
    "def outputfile(filename):\n",
    "    with open(filename) as f:\n",
    "        [N,M,K]=[int(x) for x in f.readline().split()]\n",
    "        d=[]\n",
    "        for i in range(N):\n",
    "            di=[int(x)-1 for x in f.readline().split()]\n",
    "            d.append(di)\n",
    "        return N,M,K,d\n",
    "N,M,K,d=outputfile('data.txt')\n",
    "print(N,M,K,d)\n",
    "solver=pywraplp.Solver.CreateSolver('CBC')\n",
    "# khai báo biến\n",
    "x=[[solver.IntVar(0,1,'x('+str(i)+','+str(j)+')') for j in range(M)] for i in range(N)] \n",
    "z=solver.IntVar(0,N,'z')\n",
    "# Constraint:\n",
    "# + X[i][j]=0 nếu j không thuộc tập L[i]\n",
    "for i in range(N):\n",
    "    for j in range(M):\n",
    "        if j not in (d[i]):\n",
    "            cstr=solver.Constraint(0,0)\n",
    "            cstr.SetCoefficient(x[i][j],1)\n",
    "# +mỗi bài báo cần được phân công cho ít nhất K nhà khoa học\n",
    "for i in range(N):\n",
    "    cstr=solver.Constraint(K,M)\n",
    "    for j in range(M):\n",
    "        cstr.SetCoefficient(x[i][j],1)\n",
    "# +z = số lượng bài báo nhiều nhất phân cho 1 nhà khoa học\n",
    "INF=solver.infinity()\n",
    "for j in range(M):\n",
    "    cstr=solver.Constraint(0,INF)\n",
    "    cstr.SetCoefficient(z,1)\n",
    "    for i in range(N):\n",
    "        cstr.SetCoefficient(x[i][j],-1)\n",
    "#Objective function\n",
    "objective=solver.Objective()\n",
    "objective.SetCoefficient(z,1)\n",
    "objective.SetMinimization()\n",
    "\n",
    "# print result\n",
    "result_status=solver.Solve()\n",
    "if result_status != pywraplp.Solver.OPTIMAL:\n",
    "    print('cannot find optimal solution')\n",
    "else: \n",
    "    print('optimal objective value is',solver.Objective().Value())\n",
    "    dict_solution={}\n",
    "    for j in range(M):\n",
    "        list_solution=[]\n",
    "        for i in range(N):\n",
    "            if x[i][j].solution_value()==1:\n",
    "                list_solution.append(i+1)\n",
    "            dict_solution[j]=list_solution\n",
    "    for i in dict_solution:\n",
    "        print('nhà khoa học '+str(i+1) +' tham gia phản diện các bài báo:'+str(dict_solution[i]))   "
   ]
  },
  {
   "cell_type": "code",
   "execution_count": null,
   "id": "9374c279",
   "metadata": {},
   "outputs": [],
   "source": []
  }
 ],
 "metadata": {
  "kernelspec": {
   "display_name": "Python 3",
   "language": "python",
   "name": "python3"
  },
  "language_info": {
   "codemirror_mode": {
    "name": "ipython",
    "version": 3
   },
   "file_extension": ".py",
   "mimetype": "text/x-python",
   "name": "python",
   "nbconvert_exporter": "python",
   "pygments_lexer": "ipython3",
   "version": "3.8.8"
  }
 },
 "nbformat": 4,
 "nbformat_minor": 5
}
